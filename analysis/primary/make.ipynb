{
 "cells": [
  {
   "cell_type": "code",
   "execution_count": null,
   "metadata": {},
   "outputs": [],
   "source": [
    "# Copyright (c) Meta Platforms, Inc. and affiliates.\n",
    "# All rights reserved.\n",
    "\n",
    "# This source code is licensed under the license found in the\n",
    "# LICENSE file in the root directory of this source tree.\n",
    "\n",
    "### SECONDARY MODULE ###\n",
    "\n",
    "# Change working directory to project root\n",
    "setwd('/home/jovyan/deactivation')\n",
    "\n",
    "# Run make.R to execute module\n",
    "source('analysis/primary/make.R')"
   ]
  }
 ],
 "metadata": {
  "kernelspec": {
   "display_name": "Python 3.6.9 64-bit ('anaconda3': conda)",
   "language": "python",
   "name": "python3"
  },
  "language_info": {
   "name": "python",
   "version": "3.6.9"
  },
  "orig_nbformat": 4,
  "vscode": {
   "interpreter": {
    "hash": "05fcc50ba847519f7a940bd172e07860ac73ec44f6bf6e34faebf87ea88464f2"
   }
  }
 },
 "nbformat": 4,
 "nbformat_minor": 2
}
