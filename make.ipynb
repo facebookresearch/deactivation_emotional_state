{
 "cells": [
  {
   "cell_type": "code",
   "execution_count": null,
   "metadata": {},
   "outputs": [],
   "source": [
    "# Copyright (c) Meta Platforms, Inc. and affiliates.\n",
    "# All rights reserved.\n",
    "\n",
    "# This source code is licensed under the license found in the\n",
    "# LICENSE file in the root directory of this source tree.\n",
    "\n",
    "##################################\n",
    "####  MAKE - EMOTIONAL STATE  ####\n",
    "##################################\n",
    "\n",
    "# This notebook is the main runner for the emotional state paper. \n",
    "setwd(\"~/replication-emotional-state\")\n",
    "source(\"install_required_packages.R\")\n",
    "source(\"load_data_files.R\")"
   ]
  },
  {
   "cell_type": "code",
   "execution_count": null,
   "metadata": {},
   "outputs": [],
   "source": [
    "print(\"Downloading raw data...\")\n",
    "source(\"download_raw_files.R\")\n"
   ]
  },
  {
   "cell_type": "code",
   "execution_count": null,
   "metadata": {},
   "outputs": [],
   "source": [
    "print(\"##############################\")\n",
    "print(\"####         DATA         ####\")\n",
    "print(\"##############################\")\n",
    "source(\"data/make.R\")\n",
    "print(\"##############################\")"
   ]
  },
  {
   "cell_type": "code",
   "execution_count": null,
   "metadata": {},
   "outputs": [],
   "source": [
    "print(\"##############################\")\n",
    "print(\"####       ANALYSIS       ####\")\n",
    "print(\"##############################\")\n",
    "source(\"analysis/make.R\")\n",
    "print(\"##############################\")"
   ]
  }
 ],
 "metadata": {
  "kernelspec": {
   "display_name": "R",
   "language": "R",
   "name": "ir"
  },
  "language_info": {
   "codemirror_mode": "r",
   "file_extension": ".r",
   "mimetype": "text/x-r-source",
   "name": "R",
   "pygments_lexer": "r",
   "version": "4.3.3"
  }
 },
 "nbformat": 4,
 "nbformat_minor": 4
}
